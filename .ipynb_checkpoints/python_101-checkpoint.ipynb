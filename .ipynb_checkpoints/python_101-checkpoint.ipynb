{
 "cells": [
  {
   "cell_type": "markdown",
   "metadata": {},
   "source": [
    "# python.studies\n",
    "My notebook documenting my learnings from Wes McKinney's book [Python for Data Analysis 3E](https://wesmckinney.com/book/).<br><br>\n",
    "This notebook won't serve as a general reference of the book as it will only show **WHAT I LEARNED** or **WHAT I FOUND NOTEWORTHY**. Other students will most likely have a completely different experience..."
   ]
  },
  {
   "cell_type": "markdown",
   "metadata": {},
   "source": [
    "### 1. Installations and settings\n",
    "This section will host all pip installs that will be needed to run the code of this notebook and some usefull settings for Jupyter notebooks."
   ]
  },
  {
   "cell_type": "code",
   "execution_count": 1,
   "metadata": {
    "editable": true,
    "slideshow": {
     "slide_type": ""
    },
    "tags": []
   },
   "outputs": [],
   "source": [
    "# Installs\n",
    "! pip install -Uqq ipython\n",
    "! pip install -Uqq ipykernel\n",
    "! pip install -Uqq numpy\n",
    "! pip install -Uqq pandas\n",
    "! pip install -Uqq jupyterlab-visualpython"
   ]
  },
  {
   "cell_type": "code",
   "execution_count": 2,
   "metadata": {},
   "outputs": [],
   "source": [
    "# Settings\n",
    "import numpy as np, pandas as pd\n",
    "np.set_printoptions(linewidth=140)\n",
    "pd.set_option('display.width', 140)"
   ]
  },
  {
   "cell_type": "markdown",
   "metadata": {},
   "source": [
    "### 2.2: IPython and Jupyter Notebooks basics"
   ]
  },
  {
   "cell_type": "markdown",
   "metadata": {},
   "source": [
    "#### Tab completion, help and introspection\n",
    "1. To **start the enhanced iPython interpreter** invoke the command  `iPython` in a terminal.\n",
    "2. To **open a Jupyter notebook** from a workspace in Visual Studio Code in the default browser type the command `jupyter notebook` or `jupyter lab` in a terminal to start the Jupyter server.\n",
    "3. Use `TAB` to invoke **tab completion** at the IPython prompt or in Jupyter notebooks.\n",
    "4. **Tab completion also works for user-clared variables or class instances** showing all attributes and methods like `myclassinstance.<TAB>`.\n",
    "5. By default magic and hidden functions are not shown this way. **To show magic and hidden functions** invoke `myclassinstance._<TAB>`.\n",
    "6. Another area where tab completion saves time is in the **tab completion of function keyword arguments**.\n",
    "7. Introspection: using a question mark (?) before or after a variable and executing the cell will like `x?<SHIFT+ENTER>` **display general information about an object**. Note: works only if the rest of the line is empty!\n",
    "8. To display **contextual help** in a Jupyter notebook type `CTRL + i`."
   ]
  },
  {
   "cell_type": "code",
   "execution_count": null,
   "metadata": {
    "editable": true,
    "slideshow": {
     "slide_type": ""
    },
    "tags": []
   },
   "outputs": [],
   "source": [
    "# 3. General code completion\n",
    "np.da  # Place the cursor behind `da` and hit TAB"
   ]
  },
  {
   "cell_type": "code",
   "execution_count": 5,
   "metadata": {},
   "outputs": [],
   "source": [
    "# 4. Code completion for user-declared variables \n",
    "x = 1\n",
    "x.  # Place the cursor behind the dot and hit TAB"
   ]
  },
  {
   "cell_type": "code",
   "execution_count": 4,
   "metadata": {},
   "outputs": [
    {
     "data": {
      "text/plain": [
       "True"
      ]
     },
     "execution_count": 4,
     "metadata": {},
     "output_type": "execute_result"
    }
   ],
   "source": [
    "# 5. Code completion for magic / hidden functions\n",
    "x = 1\n",
    "x._  # Place the cursor behind the dot and hit TAB"
   ]
  },
  {
   "cell_type": "code",
   "execution_count": 16,
   "metadata": {},
   "outputs": [],
   "source": [
    "# 6. Tab completion for function keyword arguments\n",
    "def function_with_kwargs(abra = 1, abbra = 2, abbbra = 3):\n",
    "    return abra, abbra, abbbra"
   ]
  },
  {
   "cell_type": "code",
   "execution_count": null,
   "metadata": {},
   "outputs": [],
   "source": [
    "function_with_kwargs(ab  # Place the cursor behind ab and hit TAB"
   ]
  },
  {
   "cell_type": "code",
   "execution_count": null,
   "metadata": {},
   "outputs": [],
   "source": [
    "# 7. Introspection"
   ]
  },
  {
   "cell_type": "code",
   "execution_count": 15,
   "metadata": {
    "editable": true,
    "slideshow": {
     "slide_type": ""
    },
    "tags": []
   },
   "outputs": [
    {
     "data": {
      "text/plain": [
       "\u001b[0;31mType:\u001b[0m        int\n",
       "\u001b[0;31mString form:\u001b[0m 1\n",
       "\u001b[0;31mDocstring:\u001b[0m  \n",
       "int([x]) -> integer\n",
       "int(x, base=10) -> integer\n",
       "\n",
       "Convert a number or string to an integer, or return 0 if no arguments\n",
       "are given.  If x is a number, return x.__int__().  For floating point\n",
       "numbers, this truncates towards zero.\n",
       "\n",
       "If x is not a number or if base is given, then x must be a string,\n",
       "bytes, or bytearray instance representing an integer literal in the\n",
       "given base.  The literal can be preceded by '+' or '-' and be surrounded\n",
       "by whitespace.  The base defaults to 10.  Valid bases are 0 and 2-36.\n",
       "Base 0 means to interpret the base from the string as an integer literal.\n",
       ">>> int('0b100', base=0)\n",
       "4"
      ]
     },
     "metadata": {},
     "output_type": "display_data"
    }
   ],
   "source": [
    "# Execute this cell\n",
    "x = 1;x?"
   ]
  },
  {
   "cell_type": "markdown",
   "metadata": {},
   "source": [
    "### 2.3 Python basics"
   ]
  },
  {
   "cell_type": "markdown",
   "metadata": {},
   "source": [
    "#### Python's type system"
   ]
  },
  {
   "attachments": {},
   "cell_type": "markdown",
   "metadata": {},
   "source": [
    "When **assigning a variable (or name) in Python, you are creating a reference** to the object shown on the righthand side of the equals sign."
   ]
  },
  {
   "attachments": {
    "307c8509-500c-4c1b-bf65-12229425bcd5.png": {
     "image/png": "[encoded data removed]"
    }
   },
   "cell_type": "markdown",
   "metadata": {},
   "source": [
    "![pda3_0205.png](attachment:307c8509-500c-4c1b-bf65-12229425bcd5.png)"
   ]
  },
  {
   "cell_type": "code",
   "execution_count": 23,
   "metadata": {},
   "outputs": [
    {
     "name": "stdout",
     "output_type": "stream",
     "text": [
      "b after declaration is [1, 2, 3]\n",
      "b after appending something to a is [1, 2, 3, 4]\n"
     ]
    }
   ],
   "source": [
    "# Example\n",
    "a = [1, 2, 3]\n",
    "b = a\n",
    "print(f\"b after declaration is {b}\")\n",
    "a.append(4)\n",
    "print(f\"b after appending something to a is {b}\")"
   ]
  },
  {
   "cell_type": "markdown",
   "metadata": {},
   "source": [
    "**Python has dynamic references, but strong types!**\n",
    "\n",
    "References (~variable assignments) can be changed freely in a script but Python is a strongly typed language, which means that every object has a specific type (or class), and implicit conversions will occur only in certain permitted circumstances e.g., the divison of a float by an integer where the integer will be cast temporarily to a float."
   ]
  },
  {
   "cell_type": "code",
   "execution_count": 29,
   "metadata": {},
   "outputs": [
    {
     "name": "stdout",
     "output_type": "stream",
     "text": [
      "<class 'int'>\n",
      "<class 'str'>\n"
     ]
    }
   ],
   "source": [
    "# Dynamic references\n",
    "a = 1\n",
    "print(type(a))\n",
    "a = \"foo\"\n",
    "print(type(a))\n",
    "\n",
    "# Note: both objects 1 and foo exist in memory until garbage collected but the object that a refers to is changed."
   ]
  },
  {
   "cell_type": "code",
   "execution_count": 38,
   "metadata": {},
   "outputs": [
    {
     "ename": "TypeError",
     "evalue": "can only concatenate str (not \"int\") to str",
     "output_type": "error",
     "traceback": [
      "\u001b[0;31m---------------------------------------------------------------------------\u001b[0m",
      "\u001b[0;31mTypeError\u001b[0m                                 Traceback (most recent call last)",
      "Cell \u001b[0;32mIn[38], line 2\u001b[0m\n\u001b[1;32m      1\u001b[0m \u001b[38;5;66;03m# Strong types\u001b[39;00m\n\u001b[0;32m----> 2\u001b[0m \u001b[38;5;124;43m\"\u001b[39;49m\u001b[38;5;124;43m5\u001b[39;49m\u001b[38;5;124;43m\"\u001b[39;49m\u001b[43m \u001b[49m\u001b[38;5;241;43m+\u001b[39;49m\u001b[43m \u001b[49m\u001b[38;5;241;43m5\u001b[39;49m  \u001b[38;5;66;03m# will throw an error as an implicit type conversion in Python does not exist in this case!\u001b[39;00m\n",
      "\u001b[0;31mTypeError\u001b[0m: can only concatenate str (not \"int\") to str"
     ]
    }
   ],
   "source": [
    "# Strong types\n",
    "\"5\" + 5  # will throw an error as an implicit type conversion in Python does not exist in this case!"
   ]
  },
  {
   "cell_type": "code",
   "execution_count": 37,
   "metadata": {},
   "outputs": [
    {
     "name": "stdout",
     "output_type": "stream",
     "text": [
      "a is <class 'float'> and b is <class 'int'>.\n",
      "b is still <class 'int'> after the operation.\n"
     ]
    }
   ],
   "source": [
    "# Implicit conversion: divison of a float by an integer.\n",
    "a = 4.5\n",
    "b = 2\n",
    "print(f\"a is {type(a)} and b is {type(b)}.\")\n",
    "a / b\n",
    "print(f\"b is still {type(b)} after the operation.\")"
   ]
  },
  {
   "cell_type": "markdown",
   "metadata": {},
   "source": [
    "#### Checking instances and types"
   ]
  },
  {
   "cell_type": "markdown",
   "metadata": {},
   "source": [
    "**Knowing the type of an object is important**, and it’s useful to be able to write functions that can handle many different kinds of input. You can check that an object is an instance of a particular type using the `isinstance(object, type)` function or with a user-defined `isiterable(object)`function."
   ]
  },
  {
   "cell_type": "code",
   "execution_count": 40,
   "metadata": {},
   "outputs": [
    {
     "name": "stdout",
     "output_type": "stream",
     "text": [
      "True\n"
     ]
    }
   ],
   "source": [
    "a = 5\n",
    "print(isinstance(a, int))"
   ]
  },
  {
   "cell_type": "code",
   "execution_count": 52,
   "metadata": {},
   "outputs": [
    {
     "name": "stdout",
     "output_type": "stream",
     "text": [
      "[True, True, False]\n"
     ]
    }
   ],
   "source": [
    "def isiterable(obj):\n",
    "    try:\n",
    "        iter(obj)\n",
    "        return True\n",
    "    except TypeError:  # not iterable\n",
    "        return False\n",
    "    \n",
    "e = [[1, 2, 3], \"foo\", 1]\n",
    "print([isiterable(element) for element in e])"
   ]
  },
  {
   "cell_type": "markdown",
   "metadata": {},
   "source": [
    "#### Imports"
   ]
  },
  {
   "cell_type": "markdown",
   "metadata": {},
   "source": [
    "In Python, a module is simply a file with the .py extension containing Python code. Suppose we had the following module:\n",
    "\n",
    "    # some_module.py\n",
    "    PI = 3.14159\n",
    "    \n",
    "    def f(x):\n",
    "        return x + 2\n",
    "    \n",
    "    def g(a, b):\n",
    "        return a + b\n",
    "If we wanted to access the variables and functions defined in some_module.py, from another file in the same directory we could do:  \n",
    "\n",
    "    import some_module\n",
    "    result = some_module.f(5)\n",
    "    pi = some_module.PI\n",
    "Or alternately:  \n",
    "\n",
    "    from some_module import g, PI\n",
    "    result = g(5, PI)\n",
    "\n",
    "Note the difference here! In the second import with `from...` we explicitely named the attributes / methods to import with the effect that we don't need to use the file name as prefix.\n",
    "\n",
    "By using the as keyword, you can give imports different variable names:\n",
    "\n",
    "    import some_module as sm\n",
    "    from some_module import PI as pi, g as gf\n",
    "    \n",
    "    r1 = sm.f(pi)\n",
    "    r2 = gf(6, pi)"
   ]
  },
  {
   "cell_type": "markdown",
   "metadata": {},
   "source": [
    "#### Binary operators and comparisons"
   ]
  },
  {
   "cell_type": "markdown",
   "metadata": {},
   "source": [
    "|Operation \t|Description|\n",
    "|:---|:---|\n",
    "|a + b|Add a and b|\n",
    "|a - b|Subtract b from a|\n",
    "|a * b| \tMultiply a by b|\n",
    "|a / b |\tDivide a by b|\n",
    "|a // b| \tFloor-divide a by b, dropping any fractional remainder|\n",
    "|a ** b |\tRaise a to the b power|\n",
    "|a & b| \tTrue if both a and b are True; for integers, take the bitwise AND|\n",
    "|a \\| b| \tTrue if either a or b is True; for integers, take the bitwise OR|\n",
    "|a ^ b |\tFor Booleans, True if a or b is True, but not both; for integers, take the bitwise EXCLUSIVE-OR|\n",
    "|a == b |\tTrue if a equals b|\n",
    "|a != b \t|True if a is not equal to b|\n",
    "|a < b, a <= b| \tTrue if a is less than (less than or equal to) b|\n",
    "|a > b, a >= b| \tTrue if a is greater than (greater than or equal to) b|\n",
    "|a is b \t|True if a and b reference the same Python object|\n",
    "|a is not b \t|True if a and b reference different Python objects|"
   ]
  },
  {
   "cell_type": "markdown",
   "metadata": {},
   "source": [
    "#### Check if two variables refer to the same object\n",
    "To check if two variables refer to the same object, use the is keyword. Use is not to check that two objects are not the same."
   ]
  },
  {
   "cell_type": "code",
   "execution_count": 3,
   "metadata": {},
   "outputs": [
    {
     "name": "stdout",
     "output_type": "stream",
     "text": [
      "True\n",
      "True\n"
     ]
    }
   ],
   "source": [
    "a = [1, 2, 3]\n",
    "\n",
    "b = a\n",
    "\n",
    "c = list(a)\n",
    "\n",
    "print(a is b)\n",
    "# Out[43]: True\n",
    "\n",
    "print(a is not c)\n",
    "# Out[44]: True"
   ]
  },
  {
   "cell_type": "markdown",
   "metadata": {},
   "source": [
    "#### Mutable and immutable objects\n",
    "\n",
    "- Many objects in Python, such as lists, dictionaries, NumPy arrays, and most user-defined types (classes), are mutable.\n",
    "- Others, like strings and tuples, are immutable, which means their internal data cannot be changed."
   ]
  },
  {
   "cell_type": "markdown",
   "metadata": {},
   "source": [
    "#### Scalar types  \n",
    "Python has a small set of built-in types for handling numerical data, strings, Boolean (True or False) values, and dates and time (provided by the `datetime` module in the standard library). \n",
    "\n",
    "|Type| \tDescription|\n",
    "|:---|:---|\n",
    "|None|The Python “null” value (only one instance of the None object exists)|\n",
    "|str|String type; holds Unicode strings|\n",
    "|bytes|Raw binary data|\n",
    "|float|Double-precision floating-point number (note there is no separate double type)|\n",
    "|bool|A Boolean True or False value|\n",
    "|int|Arbitrary precision integer|  \n",
    "\n"
   ]
  },
  {
   "cell_type": "markdown",
   "metadata": {},
   "source": [
    "#### Strings\n",
    "Many people use Python for its built-in string handling capabilities. You can write string literals using either single quotes ' or double quotes \" (double quotes are generally favored).  \n",
    "\n",
    "For multiline strings with line breaks, you can use triple quotes, either ''' or \"\"\"."
   ]
  },
  {
   "cell_type": "code",
   "execution_count": 5,
   "metadata": {},
   "outputs": [
    {
     "data": {
      "text/plain": [
       "3"
      ]
     },
     "execution_count": 5,
     "metadata": {},
     "output_type": "execute_result"
    }
   ],
   "source": [
    "c = \"\"\"\n",
    "This is a longer string that\n",
    "spans multiple lines\n",
    "\"\"\"\n",
    "c.count(\"\\n\")"
   ]
  },
  {
   "cell_type": "markdown",
   "metadata": {},
   "source": [
    "Strings are a sequence of Unicode characters and therefore can be treated like other sequences, such as slicing with lists and tuples."
   ]
  },
  {
   "cell_type": "code",
   "execution_count": 7,
   "metadata": {},
   "outputs": [
    {
     "data": {
      "text/plain": [
       "'pyt'"
      ]
     },
     "execution_count": 7,
     "metadata": {},
     "output_type": "execute_result"
    }
   ],
   "source": [
    "s = \"python\"\n",
    "s[:3]"
   ]
  },
  {
   "cell_type": "markdown",
   "metadata": {},
   "source": [
    "The backslash character \\ is an escape character, meaning that it is used to specify special characters like newline \\n or Unicode characters. To write a string literal with backslashes, you need to escape them."
   ]
  },
  {
   "cell_type": "code",
   "execution_count": 8,
   "metadata": {},
   "outputs": [
    {
     "name": "stdout",
     "output_type": "stream",
     "text": [
      "12\\34\n"
     ]
    }
   ],
   "source": [
    "s = \"12\\\\34\"\n",
    "print(s)"
   ]
  },
  {
   "cell_type": "markdown",
   "metadata": {},
   "source": [
    "For a string with a lot of backslashes and no special characters, you can preface the leading quote of the string with r (for raw), which means that the characters should be interpreted as is."
   ]
  },
  {
   "cell_type": "code",
   "execution_count": 9,
   "metadata": {},
   "outputs": [
    {
     "data": {
      "text/plain": [
       "'this\\\\has\\\\no\\\\special\\\\characters'"
      ]
     },
     "execution_count": 9,
     "metadata": {},
     "output_type": "execute_result"
    }
   ],
   "source": [
    "s = r\"this\\has\\no\\special\\characters\"\n",
    "s"
   ]
  },
  {
   "cell_type": "markdown",
   "metadata": {},
   "source": [
    "As strings are immutable. If we need to modify a string, we have to use a function or method that creates a new string, such as the string replace method or concatenating."
   ]
  },
  {
   "cell_type": "code",
   "execution_count": 30,
   "metadata": {},
   "outputs": [
    {
     "data": {
      "text/plain": [
       "'this is a longer string'"
      ]
     },
     "execution_count": 30,
     "metadata": {},
     "output_type": "execute_result"
    }
   ],
   "source": [
    "a = \"this is a string\"\n",
    "b = a.replace(\"string\", \"longer string\")\n",
    "b"
   ]
  },
  {
   "cell_type": "code",
   "execution_count": 32,
   "metadata": {},
   "outputs": [
    {
     "data": {
      "text/plain": [
       "'this is a longer string and this is another even longer string'"
      ]
     },
     "execution_count": 32,
     "metadata": {},
     "output_type": "execute_result"
    }
   ],
   "source": [
    "c = \" and this is another even longer string\"\n",
    "b + c"
   ]
  },
  {
   "cell_type": "markdown",
   "metadata": {},
   "source": [
    "#### String templating or formatting\n",
    "String formatting is an important and a deep topic; there are multiple methods and numerous options and tweaks available to control how values are formatted in the resulting string. To learn more, consult the\n",
    "[official Python documentation](https://docs.python.org/3/library/string.html).  \n",
    "Here are two ways to do it."
   ]
  },
  {
   "cell_type": "code",
   "execution_count": 26,
   "metadata": {},
   "outputs": [],
   "source": [
    "template = \"{0:.2f} {1:s} are worth US${2:d}\""
   ]
  },
  {
   "cell_type": "markdown",
   "metadata": {},
   "source": [
    "- {0:.2f} means to format the first argument as a floating-point number with two decimal places.\n",
    "- {1:s} means to format the second argument as a string.\n",
    "- {2:d} means to format the third argument as an exact integer.\n",
    "\n",
    "To substitute arguments for these format parameters, we pass a sequence of arguments to the format method."
   ]
  },
  {
   "cell_type": "code",
   "execution_count": 28,
   "metadata": {},
   "outputs": [
    {
     "data": {
      "text/plain": [
       "'88.46 Argentine Pesos are worth US$1'"
      ]
     },
     "execution_count": 28,
     "metadata": {},
     "output_type": "execute_result"
    }
   ],
   "source": [
    "template.format(88.46, \"Argentine Pesos\", 1)"
   ]
  },
  {
   "cell_type": "markdown",
   "metadata": {},
   "source": [
    "#### f-strings (short for formatted string literals)\n",
    "\n",
    "Format specifiers can be added after each expression using the same syntax as with string templates e.g.,  `:.2f`."
   ]
  },
  {
   "cell_type": "code",
   "execution_count": 19,
   "metadata": {},
   "outputs": [
    {
     "data": {
      "text/plain": [
       "'10 Pesos is worth US$0.11'"
      ]
     },
     "execution_count": 19,
     "metadata": {},
     "output_type": "execute_result"
    }
   ],
   "source": [
    "amount = 10\n",
    "rate = 88.46\n",
    "currency = \"Pesos\"\n",
    "\n",
    "f\"{amount} {currency} is worth US${amount / rate:.2f}\""
   ]
  },
  {
   "cell_type": "markdown",
   "metadata": {},
   "source": [
    "#### Bytes and Unicode  \n",
    "In modern Python (i.e., Python 3.0 and up), **Unicode has become the first-class string type** to enable more consistent handling of ASCII and non-ASCII text. In older versions of Python, strings were all bytes without any explicit Unicode encoding."
   ]
  },
  {
   "cell_type": "code",
   "execution_count": 33,
   "metadata": {},
   "outputs": [
    {
     "data": {
      "text/plain": [
       "'español'"
      ]
     },
     "execution_count": 33,
     "metadata": {},
     "output_type": "execute_result"
    }
   ],
   "source": [
    "# Example Unicode string with non-ASCII characters\n",
    "val = \"español\"\n",
    "val"
   ]
  },
  {
   "cell_type": "code",
   "execution_count": 36,
   "metadata": {},
   "outputs": [
    {
     "data": {
      "text/plain": [
       "b'espa\\xc3\\xb1ol'"
      ]
     },
     "execution_count": 36,
     "metadata": {},
     "output_type": "execute_result"
    }
   ],
   "source": [
    "# Convert this Unicode string to its UTF-8 bytes representation using the encode method\n",
    "val_utf8 = val.encode(\"utf-8\")\n",
    "val_utf8"
   ]
  },
  {
   "cell_type": "code",
   "execution_count": 35,
   "metadata": {},
   "outputs": [
    {
     "data": {
      "text/plain": [
       "bytes"
      ]
     },
     "execution_count": 35,
     "metadata": {},
     "output_type": "execute_result"
    }
   ],
   "source": [
    "type(val_utf8)"
   ]
  },
  {
   "cell_type": "code",
   "execution_count": 37,
   "metadata": {},
   "outputs": [
    {
     "data": {
      "text/plain": [
       "'español'"
      ]
     },
     "execution_count": 37,
     "metadata": {},
     "output_type": "execute_result"
    }
   ],
   "source": [
    "# Assuming you know the Unicode encoding of a bytes object, you can go back using the decode method.\n",
    "val_utf8.decode(\"utf-8\")"
   ]
  },
  {
   "cell_type": "markdown",
   "metadata": {},
   "source": [
    "#### Dates and times  \n",
    "The built-in Python `datetime` module provides `datetime`, `date`, and `time` types. The `datetime` type combines the information stored in `date` and `time` and is the most commonly used.  \n",
    "For a full list of formatting options as introduced below, see [Table 11.2](https://wesmckinney.com/book/time-series#tbl-table_datetime_formatting).    \n",
    "  **Note that datetime objects are immutable!**"
   ]
  },
  {
   "cell_type": "code",
   "execution_count": 39,
   "metadata": {},
   "outputs": [
    {
     "data": {
      "text/plain": [
       "datetime.datetime(2011, 10, 29, 20, 31, 21)"
      ]
     },
     "execution_count": 39,
     "metadata": {},
     "output_type": "execute_result"
    }
   ],
   "source": [
    "from datetime import datetime, date, time\n",
    "dt = datetime(2011, 10, 29, 20, 31, 21)\n",
    "dt"
   ]
  },
  {
   "cell_type": "code",
   "execution_count": 49,
   "metadata": {},
   "outputs": [
    {
     "name": "stdout",
     "output_type": "stream",
     "text": [
      "2011-10-29 20:31:21\n"
     ]
    }
   ],
   "source": [
    "# Extract components with the functions date() and time()\n",
    "print(dt.date(), dt.time())"
   ]
  },
  {
   "cell_type": "code",
   "execution_count": 50,
   "metadata": {},
   "outputs": [
    {
     "data": {
      "text/plain": [
       "'2011-10-29 20:31'"
      ]
     },
     "execution_count": 50,
     "metadata": {},
     "output_type": "execute_result"
    }
   ],
   "source": [
    "# Format a datetime as a string with the function strftime()\n",
    "dt.strftime(\"%Y-%m-%d %H:%M\")"
   ]
  },
  {
   "cell_type": "code",
   "execution_count": 56,
   "metadata": {},
   "outputs": [
    {
     "data": {
      "text/plain": [
       "datetime.datetime(2009, 10, 31, 0, 0)"
      ]
     },
     "execution_count": 56,
     "metadata": {},
     "output_type": "execute_result"
    }
   ],
   "source": [
    "# Convert strings into datetime objects with the strptime function\n",
    "datetime.strptime(\"20091031\", \"%Y%m%d\")"
   ]
  },
  {
   "cell_type": "code",
   "execution_count": 58,
   "metadata": {},
   "outputs": [
    {
     "data": {
      "text/plain": [
       "datetime.datetime(2011, 10, 29, 20, 0)"
      ]
     },
     "execution_count": 58,
     "metadata": {},
     "output_type": "execute_result"
    }
   ],
   "source": [
    "# Replace time fields of a series of datetimes—for example, replacing the minute and second fields with zero.\n",
    "# Note: We use dt_hour as we cannot change the immutable datetime object dt.\n",
    "dt_hour = dt.replace(minute=0, second=0)\n",
    "dt_hour"
   ]
  },
  {
   "cell_type": "code",
   "execution_count": 69,
   "metadata": {},
   "outputs": [
    {
     "data": {
      "text/plain": [
       "datetime.timedelta(days=17, seconds=7119)"
      ]
     },
     "execution_count": 69,
     "metadata": {},
     "output_type": "execute_result"
    }
   ],
   "source": [
    "# Calculation datetime difference creating a type timedelta.\n",
    "dt2 = datetime(2011, 11, 15, 22, 30)\n",
    "delta = dt2 - dt\n",
    "delta"
   ]
  },
  {
   "cell_type": "code",
   "execution_count": 76,
   "metadata": {},
   "outputs": [
    {
     "name": "stdout",
     "output_type": "stream",
     "text": [
      "False\n"
     ]
    }
   ],
   "source": [
    "# Using timedelta to \"shift\" a datetime object\n",
    "dt_shifted = dt + delta\n",
    "print(dt2 is dt_shifted)"
   ]
  },
  {
   "cell_type": "markdown",
   "metadata": {},
   "source": [
    "#### Flow control with if, elif, else\n",
    "\n",
    "It is also possible to chain comparisons."
   ]
  },
  {
   "cell_type": "code",
   "execution_count": 78,
   "metadata": {},
   "outputs": [
    {
     "name": "stdout",
     "output_type": "stream",
     "text": [
      "True\n"
     ]
    }
   ],
   "source": [
    "if 5 > 4 > 2:\n",
    "    print(True)"
   ]
  },
  {
   "cell_type": "markdown",
   "metadata": {},
   "source": [
    "#### Flow control with for loops\n",
    "\n",
    "- For loops are for iterating over a collection (like a list or tuple) or an iterater.\n",
    "- `continue`: You can advance a for loop to the next iteration, skipping the remainder of the block, using the continue keyword.\n",
    "- `break`: A for loop can be exited altogether with the break keyword. Note though, that in case of nested for loops only the loop will be exited in which the break keyword is placed.\n",
    "-  If the elements in the collection or iterator are sequences (tuples or lists, say), they can be conveniently unpacked into variables in the for loop statement."
   ]
  },
  {
   "cell_type": "code",
   "execution_count": 81,
   "metadata": {},
   "outputs": [],
   "source": [
    "# Example: general format\n",
    "collection = []\n",
    "for value in collection:\n",
    "    # do something with value\n",
    "    pass"
   ]
  },
  {
   "cell_type": "code",
   "execution_count": 85,
   "metadata": {},
   "outputs": [
    {
     "data": {
      "text/plain": [
       "12"
      ]
     },
     "execution_count": 85,
     "metadata": {},
     "output_type": "execute_result"
    }
   ],
   "source": [
    "# Example: advancing with continue\n",
    "collection = [1, 2, None, 4, None, 5]\n",
    "total = 0\n",
    "\n",
    "for value in collection:\n",
    "    if value is None:\n",
    "        continue\n",
    "    total += value\n",
    "\n",
    "total"
   ]
  },
  {
   "cell_type": "code",
   "execution_count": 87,
   "metadata": {},
   "outputs": [
    {
     "data": {
      "text/plain": [
       "13"
      ]
     },
     "execution_count": 87,
     "metadata": {},
     "output_type": "execute_result"
    }
   ],
   "source": [
    "# Example: breaking with break\n",
    "collection = [1, 2, 0, 4, 6, 5, 2, 1]\n",
    "total_until_5 = 0\n",
    "\n",
    "for value in collection:\n",
    "    if value == 5:\n",
    "        break\n",
    "    total_until_5 += value\n",
    "\n",
    "total_until_5"
   ]
  },
  {
   "cell_type": "code",
   "execution_count": 100,
   "metadata": {},
   "outputs": [
    {
     "name": "stdout",
     "output_type": "stream",
     "text": [
      "(0, 0)\n",
      "(0, 1)\n",
      "(0, 2)\n",
      "(0, 3)\n"
     ]
    }
   ],
   "source": [
    "# Example: only the loop will be exited in which the break keyword is placed.\n",
    "\n",
    "for i in range(4):\n",
    "    for j in range(4):\n",
    "        if j > i:\n",
    "            break\n",
    "        print((i, j))\n",
    "    if j > 2:\n",
    "        break"
   ]
  },
  {
   "cell_type": "code",
   "execution_count": 102,
   "metadata": {},
   "outputs": [],
   "source": [
    "# Example: unpacking iterators, general syntax\n",
    "iterator = []\n",
    "\n",
    "for a, b, c in iterator:\n",
    "    # do something\n",
    "    pass"
   ]
  },
  {
   "cell_type": "markdown",
   "metadata": {},
   "source": [
    "#### Flow control with while loops  \n",
    "\n",
    "A `while` loop specifies a condition and a block of code that is to be executed until the condition evaluates to `False` or the loop is explicitly ended with `break`. "
   ]
  },
  {
   "cell_type": "code",
   "execution_count": 1,
   "metadata": {},
   "outputs": [
    {
     "name": "stdout",
     "output_type": "stream",
     "text": [
      "128 256\n",
      "64 384\n",
      "32 448\n",
      "16 480\n",
      "8 496\n",
      "4 504\n"
     ]
    }
   ],
   "source": [
    "x = 256\n",
    "total = 0\n",
    "while x > 0:\n",
    "    if total > 500:\n",
    "        break\n",
    "    total += x\n",
    "    x = x // 2\n",
    "    print(x, total)"
   ]
  },
  {
   "cell_type": "markdown",
   "metadata": {},
   "source": [
    "### 3  Built-In Data Structures, Functions, and Files\n"
   ]
  },
  {
   "cell_type": "markdown",
   "metadata": {},
   "source": []
  }
 ],
 "metadata": {
  "kernelspec": {
   "display_name": "Python 3 (ipykernel)",
   "language": "python",
   "name": "python3"
  },
  "language_info": {
   "codemirror_mode": {
    "name": "ipython",
    "version": 3
   },
   "file_extension": ".py",
   "mimetype": "text/x-python",
   "name": "python",
   "nbconvert_exporter": "python",
   "pygments_lexer": "ipython3",
   "version": "3.12.3"
  }
 },
 "nbformat": 4,
 "nbformat_minor": 4
}
