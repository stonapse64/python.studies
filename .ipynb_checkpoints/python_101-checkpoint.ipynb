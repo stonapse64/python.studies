{
 "cells": [
  {
   "cell_type": "markdown",
   "metadata": {},
   "source": [
    "# python.studies\n",
    "My notebook documenting my learnings from Wes McKinney's book [Python for Data Analysis 3E](https://wesmckinney.com/book/).<br><br>\n",
    "This notebook won't serve as a general reference of the book as it will only show **WHAT I LEARNED** or **WHAT I FOUND NOTEWORTHY**. Other students will most likely have a completely different experience..."
   ]
  },
  {
   "cell_type": "markdown",
   "metadata": {},
   "source": [
    "# 1. Installations and settings\n",
    "This section will host all pip installs that will be needed to run the code of this notebook and some usefull settings for Jupyter notebooks."
   ]
  },
  {
   "cell_type": "code",
   "execution_count": 1,
   "metadata": {
    "editable": true,
    "slideshow": {
     "slide_type": ""
    },
    "tags": []
   },
   "outputs": [],
   "source": [
    "# Installs\n",
    "! pip install -Uqq ipython\n",
    "! pip install -Uqq ipykernel\n",
    "! pip install -Uqq jupyterlab\n",
    "! pip install -Uqq numpy\n",
    "! pip install -Uqq pandas\n",
    "! pip install -Uqq jupyterlab-visualpython"
   ]
  },
  {
   "cell_type": "code",
   "execution_count": 4,
   "metadata": {},
   "outputs": [],
   "source": [
    "# Settings\n",
    "import numpy as np, pandas as pd\n",
    "np.set_printoptions(linewidth=140)\n",
    "pd.set_option('display.width', 140)"
   ]
  },
  {
   "cell_type": "markdown",
   "metadata": {},
   "source": [
    "# 2.2: IPython and Jupyter Notebooks basics"
   ]
  },
  {
   "cell_type": "markdown",
   "metadata": {},
   "source": [
    "#### Tab completion, help and introspection\n",
    "1. To **start the enhanced iPython interpreter** invoke the command  `iPython` in a terminal.\n",
    "2. To **open a Jupyter notebook** from a workspace in Visual Studio Code in the default browser type the command `jupyter notebook` or `jupyter lab` in a terminal to start the Jupyter server.\n",
    "3. Use `TAB` to invoke **tab completion** at the IPython prompt or in Jupyter notebooks.\n",
    "4. **Tab completion also works for user-clared variables or class instances** showing all attributes and methods like `myclassinstance.<TAB>`.\n",
    "5. By default magic and hidden functions are not shown this way. **To show magic and hidden functions** invoke `myclassinstance._<TAB>`.\n",
    "6. Another area where tab completion saves time is in the **tab completion of function keyword arguments**.\n",
    "7. Introspection: using a question mark (?) before or after a variable and executing the cell will like `x?<SHIFT+ENTER>` **display general information about an object**. Note: works only if the rest of the line is empty!\n",
    "8. To display **contextual help** in a Jupyter notebook type `CTRL + i`."
   ]
  },
  {
   "cell_type": "code",
   "execution_count": 5,
   "metadata": {
    "editable": true,
    "slideshow": {
     "slide_type": ""
    },
    "tags": []
   },
   "outputs": [
    {
     "ename": "AttributeError",
     "evalue": "module 'numpy' has no attribute 'da'",
     "output_type": "error",
     "traceback": [
      "\u001b[1;31m---------------------------------------------------------------------------\u001b[0m",
      "\u001b[1;31mAttributeError\u001b[0m                            Traceback (most recent call last)",
      "Cell \u001b[1;32mIn[5], line 2\u001b[0m\n\u001b[0;32m      1\u001b[0m \u001b[38;5;66;03m# 3. General code completion\u001b[39;00m\n\u001b[1;32m----> 2\u001b[0m \u001b[43mnp\u001b[49m\u001b[38;5;241;43m.\u001b[39;49m\u001b[43mda\u001b[49m  \u001b[38;5;66;03m# Place the cursor behind `da` and hit TAB\u001b[39;00m\n",
      "File \u001b[1;32mD:\\AIDA\\python.studies\\.venv\\Lib\\site-packages\\numpy\\__init__.py:424\u001b[0m, in \u001b[0;36m__getattr__\u001b[1;34m(attr)\u001b[0m\n\u001b[0;32m    421\u001b[0m     \u001b[38;5;28;01mimport\u001b[39;00m \u001b[38;5;21;01mnumpy\u001b[39;00m\u001b[38;5;21;01m.\u001b[39;00m\u001b[38;5;21;01mchar\u001b[39;00m \u001b[38;5;28;01mas\u001b[39;00m \u001b[38;5;21;01mchar\u001b[39;00m\n\u001b[0;32m    422\u001b[0m     \u001b[38;5;28;01mreturn\u001b[39;00m char\u001b[38;5;241m.\u001b[39mchararray\n\u001b[1;32m--> 424\u001b[0m \u001b[38;5;28;01mraise\u001b[39;00m \u001b[38;5;167;01mAttributeError\u001b[39;00m(\u001b[38;5;124m\"\u001b[39m\u001b[38;5;124mmodule \u001b[39m\u001b[38;5;132;01m{!r}\u001b[39;00m\u001b[38;5;124m has no attribute \u001b[39m\u001b[38;5;124m\"\u001b[39m\n\u001b[0;32m    425\u001b[0m                      \u001b[38;5;124m\"\u001b[39m\u001b[38;5;132;01m{!r}\u001b[39;00m\u001b[38;5;124m\"\u001b[39m\u001b[38;5;241m.\u001b[39mformat(\u001b[38;5;18m__name__\u001b[39m, attr))\n",
      "\u001b[1;31mAttributeError\u001b[0m: module 'numpy' has no attribute 'da'"
     ]
    }
   ],
   "source": [
    "# 3. General code completion (do not execute this cell)\n",
    "np.da  # Place the cursor behind `da` and hit TAB"
   ]
  },
  {
   "cell_type": "code",
   "execution_count": null,
   "metadata": {},
   "outputs": [],
   "source": [
    "# 4. Code completion for user-declared variables (execute this cell and then go to the next)\n",
    "x = 1"
   ]
  },
  {
   "cell_type": "code",
   "execution_count": null,
   "metadata": {},
   "outputs": [
    {
     "ename": "SyntaxError",
     "evalue": "invalid syntax (3123860800.py, line 3)",
     "output_type": "error",
     "traceback": [
      "\u001b[1;36m  Cell \u001b[1;32mIn[6], line 3\u001b[1;36m\u001b[0m\n\u001b[1;33m    x.  # Place the cursor behind the dot and hit TAB\u001b[0m\n\u001b[1;37m        ^\u001b[0m\n\u001b[1;31mSyntaxError\u001b[0m\u001b[1;31m:\u001b[0m invalid syntax\n"
     ]
    }
   ],
   "source": [
    "x.  # Place the cursor behind the dot and hit TAB"
   ]
  },
  {
   "cell_type": "code",
   "execution_count": null,
   "metadata": {},
   "outputs": [],
   "source": [
    "# 5. Code completion for magic / hidden functions (execute this cell and then go to the next)\n",
    "x = 1"
   ]
  },
  {
   "cell_type": "code",
   "execution_count": null,
   "metadata": {},
   "outputs": [
    {
     "data": {
      "text/plain": [
       "True"
      ]
     },
     "execution_count": 4,
     "metadata": {},
     "output_type": "execute_result"
    }
   ],
   "source": [
    "x._  # Place the cursor behind the dot and hit TAB"
   ]
  },
  {
   "cell_type": "code",
   "execution_count": 16,
   "metadata": {},
   "outputs": [],
   "source": [
    "# 6. Tab completion for function keyword arguments\n",
    "def function_with_kwargs(abra = 1, abbra = 2, abbbra = 3):\n",
    "    return abra, abbra, abbbra"
   ]
  },
  {
   "cell_type": "code",
   "execution_count": null,
   "metadata": {},
   "outputs": [],
   "source": [
    "function_with_kwargs(ab  # Place the cursor behind ab and hit TAB"
   ]
  },
  {
   "cell_type": "code",
   "execution_count": null,
   "metadata": {},
   "outputs": [],
   "source": [
    "# 7. Introspection"
   ]
  },
  {
   "cell_type": "code",
   "execution_count": null,
   "metadata": {
    "editable": true,
    "jupyter": {
     "is_executing": true
    },
    "slideshow": {
     "slide_type": ""
    },
    "tags": []
   },
   "outputs": [],
   "source": [
    "# Execute this cell\n",
    "x = 1;x?"
   ]
  },
  {
   "cell_type": "markdown",
   "metadata": {},
   "source": [
    "# 2.3 Python basics"
   ]
  },
  {
   "cell_type": "markdown",
   "metadata": {},
   "source": [
    "#### Python's type system"
   ]
  },
  {
   "attachments": {},
   "cell_type": "markdown",
   "metadata": {},
   "source": [
    "When **assigning a variable (or name) in Python, you are creating a reference** to the object shown on the righthand side of the equals sign."
   ]
  },
  {
   "attachments": {
    "307c8509-500c-4c1b-bf65-12229425bcd5.png": {
     "image/png": "[encoded data removed]"
    }
   },
   "cell_type": "markdown",
   "metadata": {},
   "source": [
    "![pda3_0205.png](attachment:307c8509-500c-4c1b-bf65-12229425bcd5.png)"
   ]
  },
  {
   "cell_type": "code",
   "execution_count": 23,
   "metadata": {},
   "outputs": [
    {
     "name": "stdout",
     "output_type": "stream",
     "text": [
      "b after declaration is [1, 2, 3]\n",
      "b after appending something to a is [1, 2, 3, 4]\n"
     ]
    }
   ],
   "source": [
    "# Example\n",
    "a = [1, 2, 3]\n",
    "b = a\n",
    "print(f\"b after declaration is {b}\")\n",
    "a.append(4)\n",
    "print(f\"b after appending something to a is {b}\")"
   ]
  },
  {
   "cell_type": "markdown",
   "metadata": {},
   "source": [
    "**Python has dynamic references, but strong types!**\n",
    "\n",
    "References (~variable assignments) can be changed freely in a script but Python is a strongly typed language, which means that every object has a specific type (or class), and implicit conversions will occur only in certain permitted circumstances e.g., the divison of a float by an integer where the integer will be cast temporarily to a float."
   ]
  },
  {
   "cell_type": "code",
   "execution_count": 29,
   "metadata": {},
   "outputs": [
    {
     "name": "stdout",
     "output_type": "stream",
     "text": [
      "<class 'int'>\n",
      "<class 'str'>\n"
     ]
    }
   ],
   "source": [
    "# Dynamic references\n",
    "a = 1\n",
    "print(type(a))\n",
    "a = \"foo\"\n",
    "print(type(a))\n",
    "\n",
    "# Note: both objects 1 and foo exist in memory until garbage collected but the object that a refers to is changed."
   ]
  },
  {
   "cell_type": "code",
   "execution_count": 38,
   "metadata": {},
   "outputs": [
    {
     "ename": "TypeError",
     "evalue": "can only concatenate str (not \"int\") to str",
     "output_type": "error",
     "traceback": [
      "\u001b[0;31m---------------------------------------------------------------------------\u001b[0m",
      "\u001b[0;31mTypeError\u001b[0m                                 Traceback (most recent call last)",
      "Cell \u001b[0;32mIn[38], line 2\u001b[0m\n\u001b[1;32m      1\u001b[0m \u001b[38;5;66;03m# Strong types\u001b[39;00m\n\u001b[0;32m----> 2\u001b[0m \u001b[38;5;124;43m\"\u001b[39;49m\u001b[38;5;124;43m5\u001b[39;49m\u001b[38;5;124;43m\"\u001b[39;49m\u001b[43m \u001b[49m\u001b[38;5;241;43m+\u001b[39;49m\u001b[43m \u001b[49m\u001b[38;5;241;43m5\u001b[39;49m  \u001b[38;5;66;03m# will throw an error as an implicit type conversion in Python does not exist in this case!\u001b[39;00m\n",
      "\u001b[0;31mTypeError\u001b[0m: can only concatenate str (not \"int\") to str"
     ]
    }
   ],
   "source": [
    "# Strong types\n",
    "\"5\" + 5  # will throw an error as an implicit type conversion in Python does not exist in this case!"
   ]
  },
  {
   "cell_type": "code",
   "execution_count": 37,
   "metadata": {},
   "outputs": [
    {
     "name": "stdout",
     "output_type": "stream",
     "text": [
      "a is <class 'float'> and b is <class 'int'>.\n",
      "b is still <class 'int'> after the operation.\n"
     ]
    }
   ],
   "source": [
    "# Implicit conversion: divison of a float by an integer.\n",
    "a = 4.5\n",
    "b = 2\n",
    "print(f\"a is {type(a)} and b is {type(b)}.\")\n",
    "a / b\n",
    "print(f\"b is still {type(b)} after the operation.\")"
   ]
  },
  {
   "cell_type": "markdown",
   "metadata": {},
   "source": [
    "#### Checking instances and types"
   ]
  },
  {
   "cell_type": "markdown",
   "metadata": {},
   "source": [
    "**Knowing the type of an object is important**, and it’s useful to be able to write functions that can handle many different kinds of input. You can check that an object is an instance of a particular type using the `isinstance(object, type)` function or with a user-defined `isiterable(object)`function."
   ]
  },
  {
   "cell_type": "code",
   "execution_count": 40,
   "metadata": {},
   "outputs": [
    {
     "name": "stdout",
     "output_type": "stream",
     "text": [
      "True\n"
     ]
    }
   ],
   "source": [
    "a = 5\n",
    "print(isinstance(a, int))"
   ]
  },
  {
   "cell_type": "code",
   "execution_count": 52,
   "metadata": {},
   "outputs": [
    {
     "name": "stdout",
     "output_type": "stream",
     "text": [
      "[True, True, False]\n"
     ]
    }
   ],
   "source": [
    "def isiterable(obj):\n",
    "    try:\n",
    "        iter(obj)\n",
    "        return True\n",
    "    except TypeError:  # not iterable\n",
    "        return False\n",
    "    \n",
    "e = [[1, 2, 3], \"foo\", 1]\n",
    "print([isiterable(element) for element in e])"
   ]
  },
  {
   "cell_type": "markdown",
   "metadata": {},
   "source": [
    "#### Imports"
   ]
  },
  {
   "cell_type": "markdown",
   "metadata": {},
   "source": [
    "In Python, a module is simply a file with the .py extension containing Python code. Suppose we had the following module:\n",
    "\n",
    "    # some_module.py\n",
    "    PI = 3.14159\n",
    "    \n",
    "    def f(x):\n",
    "        return x + 2\n",
    "    \n",
    "    def g(a, b):\n",
    "        return a + b\n",
    "If we wanted to access the variables and functions defined in some_module.py, from another file in the same directory we could do:  \n",
    "\n",
    "    import some_module\n",
    "    result = some_module.f(5)\n",
    "    pi = some_module.PI\n",
    "Or alternately:  \n",
    "\n",
    "    from some_module import g, PI\n",
    "    result = g(5, PI)\n",
    "\n",
    "Note the difference here! In the second import with `from...` we explicitely named the attributes / methods to import with the effect that we don't need to use the file name as prefix.\n",
    "\n",
    "By using the as keyword, you can give imports different variable names:\n",
    "\n",
    "    import some_module as sm\n",
    "    from some_module import PI as pi, g as gf\n",
    "    \n",
    "    r1 = sm.f(pi)\n",
    "    r2 = gf(6, pi)"
   ]
  },
  {
   "cell_type": "markdown",
   "metadata": {},
   "source": [
    "#### Binary operators and comparisons"
   ]
  },
  {
   "cell_type": "markdown",
   "metadata": {},
   "source": [
    "|Operation \t|Description|\n",
    "|:---|:---|\n",
    "|a + b|Add a and b|\n",
    "|a - b|Subtract b from a|\n",
    "|a * b| \tMultiply a by b|\n",
    "|a / b |\tDivide a by b|\n",
    "|a // b| \tFloor-divide a by b, dropping any fractional remainder|\n",
    "|a ** b |\tRaise a to the b power|\n",
    "|a & b| \tTrue if both a and b are True; for integers, take the bitwise AND|\n",
    "|a \\| b| \tTrue if either a or b is True; for integers, take the bitwise OR|\n",
    "|a ^ b |\tFor Booleans, True if a or b is True, but not both; for integers, take the bitwise EXCLUSIVE-OR|\n",
    "|a == b |\tTrue if a equals b|\n",
    "|a != b \t|True if a is not equal to b|\n",
    "|a < b, a <= b| \tTrue if a is less than (less than or equal to) b|\n",
    "|a > b, a >= b| \tTrue if a is greater than (greater than or equal to) b|\n",
    "|a is b \t|True if a and b reference the same Python object|\n",
    "|a is not b \t|True if a and b reference different Python objects|"
   ]
  },
  {
   "cell_type": "markdown",
   "metadata": {},
   "source": [
    "#### Check if two variables refer to the same object\n",
    "To check if two variables refer to the same object, use the is keyword. Use is not to check that two objects are not the same."
   ]
  },
  {
   "cell_type": "code",
   "execution_count": 3,
   "metadata": {},
   "outputs": [
    {
     "name": "stdout",
     "output_type": "stream",
     "text": [
      "True\n",
      "True\n"
     ]
    }
   ],
   "source": [
    "a = [1, 2, 3]\n",
    "\n",
    "b = a\n",
    "\n",
    "c = list(a)\n",
    "\n",
    "print(a is b)\n",
    "# Out[43]: True\n",
    "\n",
    "print(a is not c)\n",
    "# Out[44]: True"
   ]
  },
  {
   "cell_type": "markdown",
   "metadata": {},
   "source": [
    "#### Mutable and immutable objects\n",
    "\n",
    "- Many objects in Python, such as lists, dictionaries, NumPy arrays, and most user-defined types (classes), are mutable.\n",
    "- Others, like strings and tuples, are immutable, which means their internal data cannot be changed."
   ]
  },
  {
   "cell_type": "markdown",
   "metadata": {},
   "source": [
    "#### Scalar types  \n",
    "Python has a small set of built-in types for handling numerical data, strings, Boolean (True or False) values, and dates and time (provided by the `datetime` module in the standard library). \n",
    "\n",
    "|Type| \tDescription|\n",
    "|:---|:---|\n",
    "|None|The Python “null” value (only one instance of the None object exists)|\n",
    "|str|String type; holds Unicode strings|\n",
    "|bytes|Raw binary data|\n",
    "|float|Double-precision floating-point number (note there is no separate double type)|\n",
    "|bool|A Boolean True or False value|\n",
    "|int|Arbitrary precision integer|  \n",
    "\n"
   ]
  },
  {
   "cell_type": "markdown",
   "metadata": {},
   "source": [
    "#### Strings\n",
    "Many people use Python for its built-in string handling capabilities. You can write string literals using either single quotes ' or double quotes \" (double quotes are generally favored).  \n",
    "\n",
    "For multiline strings with line breaks, you can use triple quotes, either ''' or \"\"\"."
   ]
  },
  {
   "cell_type": "code",
   "execution_count": 5,
   "metadata": {},
   "outputs": [
    {
     "data": {
      "text/plain": [
       "3"
      ]
     },
     "execution_count": 5,
     "metadata": {},
     "output_type": "execute_result"
    }
   ],
   "source": [
    "c = \"\"\"\n",
    "This is a longer string that\n",
    "spans multiple lines\n",
    "\"\"\"\n",
    "c.count(\"\\n\")"
   ]
  },
  {
   "cell_type": "markdown",
   "metadata": {},
   "source": [
    "Strings are a sequence of Unicode characters and therefore can be treated like other sequences, such as slicing with lists and tuples."
   ]
  },
  {
   "cell_type": "code",
   "execution_count": 7,
   "metadata": {},
   "outputs": [
    {
     "data": {
      "text/plain": [
       "'pyt'"
      ]
     },
     "execution_count": 7,
     "metadata": {},
     "output_type": "execute_result"
    }
   ],
   "source": [
    "s = \"python\"\n",
    "s[:3]"
   ]
  },
  {
   "cell_type": "markdown",
   "metadata": {},
   "source": [
    "The backslash character \\ is an escape character, meaning that it is used to specify special characters like newline \\n or Unicode characters. To write a string literal with backslashes, you need to escape them."
   ]
  },
  {
   "cell_type": "code",
   "execution_count": 8,
   "metadata": {},
   "outputs": [
    {
     "name": "stdout",
     "output_type": "stream",
     "text": [
      "12\\34\n"
     ]
    }
   ],
   "source": [
    "s = \"12\\\\34\"\n",
    "print(s)"
   ]
  },
  {
   "cell_type": "markdown",
   "metadata": {},
   "source": [
    "For a string with a lot of backslashes and no special characters, you can preface the leading quote of the string with r (for raw), which means that the characters should be interpreted as is."
   ]
  },
  {
   "cell_type": "code",
   "execution_count": 9,
   "metadata": {},
   "outputs": [
    {
     "data": {
      "text/plain": [
       "'this\\\\has\\\\no\\\\special\\\\characters'"
      ]
     },
     "execution_count": 9,
     "metadata": {},
     "output_type": "execute_result"
    }
   ],
   "source": [
    "s = r\"this\\has\\no\\special\\characters\"\n",
    "s"
   ]
  },
  {
   "cell_type": "markdown",
   "metadata": {},
   "source": [
    "As strings are immutable. If we need to modify a string, we have to use a function or method that creates a new string, such as the string replace method or concatenating."
   ]
  },
  {
   "cell_type": "code",
   "execution_count": 30,
   "metadata": {},
   "outputs": [
    {
     "data": {
      "text/plain": [
       "'this is a longer string'"
      ]
     },
     "execution_count": 30,
     "metadata": {},
     "output_type": "execute_result"
    }
   ],
   "source": [
    "a = \"this is a string\"\n",
    "b = a.replace(\"string\", \"longer string\")\n",
    "b"
   ]
  },
  {
   "cell_type": "code",
   "execution_count": 32,
   "metadata": {},
   "outputs": [
    {
     "data": {
      "text/plain": [
       "'this is a longer string and this is another even longer string'"
      ]
     },
     "execution_count": 32,
     "metadata": {},
     "output_type": "execute_result"
    }
   ],
   "source": [
    "c = \" and this is another even longer string\"\n",
    "b + c"
   ]
  },
  {
   "cell_type": "markdown",
   "metadata": {},
   "source": [
    "#### String templating or formatting\n",
    "String formatting is an important and a deep topic; there are multiple methods and numerous options and tweaks available to control how values are formatted in the resulting string. To learn more, consult the\n",
    "[official Python documentation](https://docs.python.org/3/library/string.html).  \n",
    "Here are two ways to do it."
   ]
  },
  {
   "cell_type": "code",
   "execution_count": 26,
   "metadata": {},
   "outputs": [],
   "source": [
    "template = \"{0:.2f} {1:s} are worth US${2:d}\""
   ]
  },
  {
   "cell_type": "markdown",
   "metadata": {},
   "source": [
    "- {0:.2f} means to format the first argument as a floating-point number with two decimal places.\n",
    "- {1:s} means to format the second argument as a string.\n",
    "- {2:d} means to format the third argument as an exact integer.\n",
    "\n",
    "To substitute arguments for these format parameters, we pass a sequence of arguments to the format method."
   ]
  },
  {
   "cell_type": "code",
   "execution_count": 28,
   "metadata": {},
   "outputs": [
    {
     "data": {
      "text/plain": [
       "'88.46 Argentine Pesos are worth US$1'"
      ]
     },
     "execution_count": 28,
     "metadata": {},
     "output_type": "execute_result"
    }
   ],
   "source": [
    "template.format(88.46, \"Argentine Pesos\", 1)"
   ]
  },
  {
   "cell_type": "markdown",
   "metadata": {},
   "source": [
    "#### f-strings (short for formatted string literals)\n",
    "\n",
    "Format specifiers can be added after each expression using the same syntax as with string templates e.g.,  `:.2f`."
   ]
  },
  {
   "cell_type": "code",
   "execution_count": 19,
   "metadata": {},
   "outputs": [
    {
     "data": {
      "text/plain": [
       "'10 Pesos is worth US$0.11'"
      ]
     },
     "execution_count": 19,
     "metadata": {},
     "output_type": "execute_result"
    }
   ],
   "source": [
    "amount = 10\n",
    "rate = 88.46\n",
    "currency = \"Pesos\"\n",
    "\n",
    "f\"{amount} {currency} is worth US${amount / rate:.2f}\""
   ]
  },
  {
   "cell_type": "markdown",
   "metadata": {},
   "source": [
    "#### Bytes and Unicode  \n",
    "In modern Python (i.e., Python 3.0 and up), **Unicode has become the first-class string type** to enable more consistent handling of ASCII and non-ASCII text. In older versions of Python, strings were all bytes without any explicit Unicode encoding."
   ]
  },
  {
   "cell_type": "code",
   "execution_count": 33,
   "metadata": {},
   "outputs": [
    {
     "data": {
      "text/plain": [
       "'español'"
      ]
     },
     "execution_count": 33,
     "metadata": {},
     "output_type": "execute_result"
    }
   ],
   "source": [
    "# Example Unicode string with non-ASCII characters\n",
    "val = \"español\"\n",
    "val"
   ]
  },
  {
   "cell_type": "code",
   "execution_count": 36,
   "metadata": {},
   "outputs": [
    {
     "data": {
      "text/plain": [
       "b'espa\\xc3\\xb1ol'"
      ]
     },
     "execution_count": 36,
     "metadata": {},
     "output_type": "execute_result"
    }
   ],
   "source": [
    "# Convert this Unicode string to its UTF-8 bytes representation using the encode method\n",
    "val_utf8 = val.encode(\"utf-8\")\n",
    "val_utf8"
   ]
  },
  {
   "cell_type": "code",
   "execution_count": 35,
   "metadata": {},
   "outputs": [
    {
     "data": {
      "text/plain": [
       "bytes"
      ]
     },
     "execution_count": 35,
     "metadata": {},
     "output_type": "execute_result"
    }
   ],
   "source": [
    "type(val_utf8)"
   ]
  },
  {
   "cell_type": "code",
   "execution_count": 37,
   "metadata": {},
   "outputs": [
    {
     "data": {
      "text/plain": [
       "'español'"
      ]
     },
     "execution_count": 37,
     "metadata": {},
     "output_type": "execute_result"
    }
   ],
   "source": [
    "# Assuming you know the Unicode encoding of a bytes object, you can go back using the decode method.\n",
    "val_utf8.decode(\"utf-8\")"
   ]
  },
  {
   "cell_type": "markdown",
   "metadata": {},
   "source": [
    "#### Dates and times  \n",
    "The built-in Python `datetime` module provides `datetime`, `date`, and `time` types. The `datetime` type combines the information stored in `date` and `time` and is the most commonly used.  \n",
    "For a full list of formatting options as introduced below, see [Table 11.2](https://wesmckinney.com/book/time-series#tbl-table_datetime_formatting).    \n",
    "  **Note that datetime objects are immutable!**"
   ]
  },
  {
   "cell_type": "code",
   "execution_count": 39,
   "metadata": {},
   "outputs": [
    {
     "data": {
      "text/plain": [
       "datetime.datetime(2011, 10, 29, 20, 31, 21)"
      ]
     },
     "execution_count": 39,
     "metadata": {},
     "output_type": "execute_result"
    }
   ],
   "source": [
    "from datetime import datetime, date, time\n",
    "dt = datetime(2011, 10, 29, 20, 31, 21)\n",
    "dt"
   ]
  },
  {
   "cell_type": "code",
   "execution_count": 49,
   "metadata": {},
   "outputs": [
    {
     "name": "stdout",
     "output_type": "stream",
     "text": [
      "2011-10-29 20:31:21\n"
     ]
    }
   ],
   "source": [
    "# Extract components with the functions date() and time()\n",
    "print(dt.date(), dt.time())"
   ]
  },
  {
   "cell_type": "code",
   "execution_count": 50,
   "metadata": {},
   "outputs": [
    {
     "data": {
      "text/plain": [
       "'2011-10-29 20:31'"
      ]
     },
     "execution_count": 50,
     "metadata": {},
     "output_type": "execute_result"
    }
   ],
   "source": [
    "# Format a datetime as a string with the function strftime()\n",
    "dt.strftime(\"%Y-%m-%d %H:%M\")"
   ]
  },
  {
   "cell_type": "code",
   "execution_count": 56,
   "metadata": {},
   "outputs": [
    {
     "data": {
      "text/plain": [
       "datetime.datetime(2009, 10, 31, 0, 0)"
      ]
     },
     "execution_count": 56,
     "metadata": {},
     "output_type": "execute_result"
    }
   ],
   "source": [
    "# Convert strings into datetime objects with the strptime function\n",
    "datetime.strptime(\"20091031\", \"%Y%m%d\")"
   ]
  },
  {
   "cell_type": "code",
   "execution_count": 58,
   "metadata": {},
   "outputs": [
    {
     "data": {
      "text/plain": [
       "datetime.datetime(2011, 10, 29, 20, 0)"
      ]
     },
     "execution_count": 58,
     "metadata": {},
     "output_type": "execute_result"
    }
   ],
   "source": [
    "# Replace time fields of a series of datetimes—for example, replacing the minute and second fields with zero.\n",
    "# Note: We use dt_hour as we cannot change the immutable datetime object dt.\n",
    "dt_hour = dt.replace(minute=0, second=0)\n",
    "dt_hour"
   ]
  },
  {
   "cell_type": "code",
   "execution_count": 69,
   "metadata": {},
   "outputs": [
    {
     "data": {
      "text/plain": [
       "datetime.timedelta(days=17, seconds=7119)"
      ]
     },
     "execution_count": 69,
     "metadata": {},
     "output_type": "execute_result"
    }
   ],
   "source": [
    "# Calculation datetime difference creating a type timedelta.\n",
    "dt2 = datetime(2011, 11, 15, 22, 30)\n",
    "delta = dt2 - dt\n",
    "delta"
   ]
  },
  {
   "cell_type": "code",
   "execution_count": 76,
   "metadata": {},
   "outputs": [
    {
     "name": "stdout",
     "output_type": "stream",
     "text": [
      "False\n"
     ]
    }
   ],
   "source": [
    "# Using timedelta to \"shift\" a datetime object\n",
    "dt_shifted = dt + delta\n",
    "print(dt2 is dt_shifted)"
   ]
  },
  {
   "cell_type": "markdown",
   "metadata": {},
   "source": [
    "#### Flow control with if, elif, else\n",
    "\n",
    "It is also possible to chain comparisons."
   ]
  },
  {
   "cell_type": "code",
   "execution_count": 78,
   "metadata": {},
   "outputs": [
    {
     "name": "stdout",
     "output_type": "stream",
     "text": [
      "True\n"
     ]
    }
   ],
   "source": [
    "if 5 > 4 > 2:\n",
    "    print(True)"
   ]
  },
  {
   "cell_type": "markdown",
   "metadata": {},
   "source": [
    "#### Flow control with for loops\n",
    "\n",
    "- For loops are for iterating over a collection (like a list or tuple) or an iterater.\n",
    "- `continue`: You can advance a for loop to the next iteration, skipping the remainder of the block, using the continue keyword.\n",
    "- `break`: A for loop can be exited altogether with the break keyword. Note though, that in case of nested for loops only the loop will be exited in which the break keyword is placed.\n",
    "-  If the elements in the collection or iterator are sequences (tuples or lists, say), they can be conveniently unpacked into variables in the for loop statement."
   ]
  },
  {
   "cell_type": "code",
   "execution_count": 81,
   "metadata": {},
   "outputs": [],
   "source": [
    "# Example: general format\n",
    "collection = []\n",
    "for value in collection:\n",
    "    # do something with value\n",
    "    pass"
   ]
  },
  {
   "cell_type": "code",
   "execution_count": 85,
   "metadata": {},
   "outputs": [
    {
     "data": {
      "text/plain": [
       "12"
      ]
     },
     "execution_count": 85,
     "metadata": {},
     "output_type": "execute_result"
    }
   ],
   "source": [
    "# Example: advancing with continue\n",
    "collection = [1, 2, None, 4, None, 5]\n",
    "total = 0\n",
    "\n",
    "for value in collection:\n",
    "    if value is None:\n",
    "        continue\n",
    "    total += value\n",
    "\n",
    "total"
   ]
  },
  {
   "cell_type": "code",
   "execution_count": 87,
   "metadata": {},
   "outputs": [
    {
     "data": {
      "text/plain": [
       "13"
      ]
     },
     "execution_count": 87,
     "metadata": {},
     "output_type": "execute_result"
    }
   ],
   "source": [
    "# Example: breaking with break\n",
    "collection = [1, 2, 0, 4, 6, 5, 2, 1]\n",
    "total_until_5 = 0\n",
    "\n",
    "for value in collection:\n",
    "    if value == 5:\n",
    "        break\n",
    "    total_until_5 += value\n",
    "\n",
    "total_until_5"
   ]
  },
  {
   "cell_type": "code",
   "execution_count": 100,
   "metadata": {},
   "outputs": [
    {
     "name": "stdout",
     "output_type": "stream",
     "text": [
      "(0, 0)\n",
      "(0, 1)\n",
      "(0, 2)\n",
      "(0, 3)\n"
     ]
    }
   ],
   "source": [
    "# Example: only the loop will be exited in which the break keyword is placed.\n",
    "\n",
    "for i in range(4):\n",
    "    for j in range(4):\n",
    "        if j > i:\n",
    "            break\n",
    "        print((i, j))\n",
    "    if j > 2:\n",
    "        break"
   ]
  },
  {
   "cell_type": "code",
   "execution_count": 102,
   "metadata": {},
   "outputs": [],
   "source": [
    "# Example: unpacking iterators, general syntax\n",
    "iterator = []\n",
    "\n",
    "for a, b, c in iterator:\n",
    "    # do something\n",
    "    pass"
   ]
  },
  {
   "cell_type": "markdown",
   "metadata": {},
   "source": [
    "#### Flow control with while loops  \n",
    "\n",
    "A `while` loop specifies a condition and a block of code that is to be executed until the condition evaluates to `False` or the loop is explicitly ended with `break`. "
   ]
  },
  {
   "cell_type": "code",
   "execution_count": 1,
   "metadata": {},
   "outputs": [
    {
     "name": "stdout",
     "output_type": "stream",
     "text": [
      "128 256\n",
      "64 384\n",
      "32 448\n",
      "16 480\n",
      "8 496\n",
      "4 504\n"
     ]
    }
   ],
   "source": [
    "x = 256\n",
    "total = 0\n",
    "while x > 0:\n",
    "    if total > 500:\n",
    "        break\n",
    "    total += x\n",
    "    x = x // 2\n",
    "    print(x, total)"
   ]
  },
  {
   "cell_type": "markdown",
   "metadata": {},
   "source": [
    "# 3. Built-In Data Structures, Functions, and Files\n",
    "## 3.1 Data Structures and Sequences"
   ]
  },
  {
   "cell_type": "markdown",
   "metadata": {},
   "source": [
    "### Tuple\n",
    "A tuple is a fixed-length, immutable sequence of Python objects which, once assigned, cannot be changed. The easiest way to create one is with a comma-separated sequence of values wrapped in parentheses. Another way is to use the `tuple` function."
   ]
  },
  {
   "cell_type": "code",
   "execution_count": 5,
   "metadata": {},
   "outputs": [
    {
     "data": {
      "text/plain": [
       "(4, 5, 6)"
      ]
     },
     "execution_count": 5,
     "metadata": {},
     "output_type": "execute_result"
    }
   ],
   "source": [
    "tuple_ = (4, 5, 6)\n",
    "tuple_"
   ]
  },
  {
   "cell_type": "markdown",
   "metadata": {},
   "source": [
    "Elements can be accessed with square brackets `[]` as with most other sequence types."
   ]
  },
  {
   "cell_type": "code",
   "execution_count": 11,
   "metadata": {},
   "outputs": [
    {
     "data": {
      "text/plain": [
       "6"
      ]
     },
     "execution_count": 11,
     "metadata": {},
     "output_type": "execute_result"
    }
   ],
   "source": [
    "tuple_[2]"
   ]
  },
  {
   "cell_type": "markdown",
   "metadata": {},
   "source": [
    "If an object inside a tuple is mutable, such as a list, you can modify it in place."
   ]
  },
  {
   "cell_type": "code",
   "execution_count": 17,
   "metadata": {},
   "outputs": [
    {
     "data": {
      "text/plain": [
       "('foo', [1, 2, 3], True)"
      ]
     },
     "execution_count": 17,
     "metadata": {},
     "output_type": "execute_result"
    }
   ],
   "source": [
    "tuple_ = tuple(['foo', [1, 2], True])\n",
    "tuple_[1].append(3)\n",
    "tuple_"
   ]
  },
  {
   "cell_type": "markdown",
   "metadata": {},
   "source": [
    "#### Unpacking tuples\n",
    "\n",
    "If you try to assign to a tuple-like expression of variables, Python will attempt to unpack the value on the righthand side of the equals sign."
   ]
  },
  {
   "cell_type": "code",
   "execution_count": 18,
   "metadata": {},
   "outputs": [
    {
     "data": {
      "text/plain": [
       "5"
      ]
     },
     "execution_count": 18,
     "metadata": {},
     "output_type": "execute_result"
    }
   ],
   "source": [
    "tuple_ = (4, 5, 6)\n",
    "a, b, c = tuple_\n",
    "b"
   ]
  },
  {
   "cell_type": "markdown",
   "metadata": {},
   "source": [
    "A common use of variable unpacking is iterating over sequences of tuples or lists."
   ]
  },
  {
   "cell_type": "code",
   "execution_count": 21,
   "metadata": {},
   "outputs": [
    {
     "name": "stdout",
     "output_type": "stream",
     "text": [
      "a=1, b=2, c=3\n",
      "a=4, b=5, c=6\n",
      "a=7, b=8, c=9\n"
     ]
    }
   ],
   "source": [
    "seq = [(1, 2, 3), (4, 5, 6), (7, 8, 9)]\n",
    "for a, b, c in seq:\n",
    "    print(f\"a={a}, b={b}, c={c}\")"
   ]
  },
  {
   "cell_type": "code",
   "execution_count": 22,
   "metadata": {},
   "outputs": [],
   "source": [
    "a_seq, *_ = seq"
   ]
  },
  {
   "cell_type": "code",
   "execution_count": 23,
   "metadata": {},
   "outputs": [
    {
     "data": {
      "text/plain": [
       "(1, 2, 3)"
      ]
     },
     "execution_count": 23,
     "metadata": {},
     "output_type": "execute_result"
    }
   ],
   "source": [
    "a_seq"
   ]
  },
  {
   "cell_type": "markdown",
   "metadata": {},
   "source": [
    "There are some situations where you may want to \"pluck\" a few elements from the beginning of a tuple. There is a special syntax that can do this, `*rest` or `*_`, which is also used in function signatures to capture an arbitrarily long list of positional arguments."
   ]
  },
  {
   "cell_type": "code",
   "execution_count": 28,
   "metadata": {},
   "outputs": [
    {
     "name": "stdout",
     "output_type": "stream",
     "text": [
      "a=1, b=2\n"
     ]
    },
    {
     "data": {
      "text/plain": [
       "[3, 4, 5]"
      ]
     },
     "execution_count": 28,
     "metadata": {},
     "output_type": "execute_result"
    }
   ],
   "source": [
    "values = 1, 2, 3, 4, 5\n",
    "a, b, *rest = values\n",
    "\n",
    "print(f\"a={a}, b={b}\")\n",
    "rest"
   ]
  },
  {
   "cell_type": "markdown",
   "metadata": {},
   "source": [
    "### List\n",
    "Lists are variable length and their contents can be modified in place. Lists are mutable. You can define them using square brackets [] or using the list type function."
   ]
  },
  {
   "cell_type": "markdown",
   "metadata": {},
   "source": [
    "#### Generation"
   ]
  },
  {
   "cell_type": "code",
   "execution_count": 19,
   "metadata": {},
   "outputs": [
    {
     "name": "stdout",
     "output_type": "stream",
     "text": [
      "a_list: <class 'list'>, [2, 4, 9, None]\n",
      "b_list: <class 'list'>, [2, 4, 9, None]\n",
      "c_list: <class 'list'>, [0, 2, 4, 6, 8]\n"
     ]
    }
   ],
   "source": [
    "# Creation with []\n",
    "a_list = [2, 4, 9, None]\n",
    "print(f\"a_list: {type(a_list)}, {a_list}\")\n",
    "\n",
    "# Creation with list type function\n",
    "b_list = list([2, 4, 9, None])\n",
    "print(f\"b_list: {type(b_list)}, {b_list}\")\n",
    "\n",
    "# Creation with list type function and range\n",
    "c_list = list(range(0, 10, 2))\n",
    "print(f\"c_list: {type(c_list)}, {c_list}\")"
   ]
  },
  {
   "cell_type": "markdown",
   "metadata": {},
   "source": [
    "#### Modification\n",
    "\n",
    "**Note**: `insert`, `pop` and `remove` are computational extensive!"
   ]
  },
  {
   "cell_type": "code",
   "execution_count": 27,
   "metadata": {},
   "outputs": [
    {
     "name": "stdout",
     "output_type": "stream",
     "text": [
      "c_list: <class 'list'>, [0, 2, 4, 6, 7, 8]\n",
      "c_list: <class 'list'>, [0, 2, 4, 6, 8]\n",
      "c_list: <class 'list'>, [0, 2, 6, 8]\n",
      "c_list: <class 'list'>, [0, 2, 6, 8, 10]\n"
     ]
    }
   ],
   "source": [
    "# Insert list element at index position\n",
    "index = 4\n",
    "value = 7\n",
    "c_list = list(range(0, 10, 2))\n",
    "c_list.insert(index, value)\n",
    "print(f\"c_list: {type(c_list)}, {c_list}\")\n",
    "\n",
    "# Remove list element at index position\n",
    "index = 4\n",
    "c_list.pop(index)\n",
    "print(f\"c_list: {type(c_list)}, {c_list}\")\n",
    "\n",
    "# Remove list element by value\n",
    "value = 4\n",
    "c_list.remove(value)\n",
    "print(f\"c_list: {type(c_list)}, {c_list}\")\n",
    "\n",
    "# Append list element at the end\n",
    "value = 10\n",
    "c_list.append(value)\n",
    "print(f\"c_list: {type(c_list)}, {c_list}\")"
   ]
  },
  {
   "cell_type": "markdown",
   "metadata": {},
   "source": [
    "#### Searching for a list element\n",
    "\n",
    "Check if a list contains a value using the `in` or `not in` keyword.  \n",
    "**Note**: Checking whether a list contains a value is a lot slower than doing so with dictionaries and sets (to be introduced shortly), as Python makes a linear scan across the values of the list, whereas it can check the others (based on hash tables) in constant time."
   ]
  },
  {
   "cell_type": "code",
   "execution_count": 9,
   "metadata": {},
   "outputs": [
    {
     "data": {
      "text/plain": [
       "True"
      ]
     },
     "execution_count": 9,
     "metadata": {},
     "output_type": "execute_result"
    }
   ],
   "source": [
    "c_list = list(range(0, 10, 2))\n",
    "8 in c_list"
   ]
  },
  {
   "cell_type": "code",
   "execution_count": 10,
   "metadata": {},
   "outputs": [
    {
     "data": {
      "text/plain": [
       "True"
      ]
     },
     "execution_count": 10,
     "metadata": {},
     "output_type": "execute_result"
    }
   ],
   "source": [
    "9 not in c_list"
   ]
  },
  {
   "cell_type": "markdown",
   "metadata": {},
   "source": [
    "#### Concatenating and combining lists\n",
    "\n",
    "**Note**: Note that list concatenation by addition is a comparatively expensive operation since a new list must be created and the objects copied over. Using `extend` to append elements to an existing list, especially if you are building up a large list, is usually preferable. "
   ]
  },
  {
   "cell_type": "code",
   "execution_count": 27,
   "metadata": {},
   "outputs": [
    {
     "name": "stdout",
     "output_type": "stream",
     "text": [
      "CPU times: user 220 μs, sys: 24 μs, total: 244 μs\n",
      "Wall time: 246 μs\n"
     ]
    }
   ],
   "source": [
    "%%time\n",
    "# Quicker with extend\n",
    "list_of_lists = [[1, 2, 3], [4, 5, 6], [7, 8, 9]]\n",
    "everything = []\n",
    "\n",
    "for i in range(1000):\n",
    "    for chunk in list_of_lists:\n",
    "        everything.extend(chunk)\n",
    "        # print(everything)"
   ]
  },
  {
   "cell_type": "code",
   "execution_count": 28,
   "metadata": {},
   "outputs": [
    {
     "name": "stdout",
     "output_type": "stream",
     "text": [
      "CPU times: user 269 μs, sys: 30 μs, total: 299 μs\n",
      "Wall time: 302 μs\n"
     ]
    }
   ],
   "source": [
    "%%time\n",
    "# Slower with append\n",
    "list_of_lists = [[1, 2, 3], [4, 5, 6], [7, 8, 9]]\n",
    "everything = []\n",
    "\n",
    "for i in range(1000):\n",
    "    for chunk in list_of_lists:\n",
    "        everything.append(chunk)\n",
    "        # print(everything)"
   ]
  },
  {
   "cell_type": "markdown",
   "metadata": {},
   "source": [
    "#### Sorting\n",
    "\n",
    "You can sort a list **in place** (without creating a new object) by calling its `sort` function.\n",
    "\n",
    "`sort` has a few options that will occasionally come in handy. One is the ability to pass a secondary sort `key`— that is, a function that produces a value to use to sort the objects. For example, we could sort a collection of strings by their lengths.\n",
    "\n",
    "**Note**: The `sorted` function is second option that produces a **sorted copy** of a list."
   ]
  },
  {
   "cell_type": "code",
   "execution_count": 29,
   "metadata": {},
   "outputs": [
    {
     "data": {
      "text/plain": [
       "[1, 4, 5, 6, 9, 16]"
      ]
     },
     "execution_count": 29,
     "metadata": {},
     "output_type": "execute_result"
    }
   ],
   "source": [
    "# Sorting with sort\n",
    "a_list = [6, 4, 9, 1, 16, 5]\n",
    "a_list.sort()\n",
    "a_list"
   ]
  },
  {
   "cell_type": "code",
   "execution_count": 33,
   "metadata": {},
   "outputs": [
    {
     "data": {
      "text/plain": [
       "([6, 4, 9, 1, 16, 5], [1, 4, 5, 6, 9, 16])"
      ]
     },
     "execution_count": 33,
     "metadata": {},
     "output_type": "execute_result"
    }
   ],
   "source": [
    "# Sorting with sorted\n",
    "a_list = [6, 4, 9, 1, 16, 5]\n",
    "b_list = sorted(a_list)\n",
    "a_list, b_list"
   ]
  },
  {
   "cell_type": "code",
   "execution_count": 36,
   "metadata": {},
   "outputs": [
    {
     "data": {
      "text/plain": [
       "['foo', 'maria', 'apple', 'caramba']"
      ]
     },
     "execution_count": 36,
     "metadata": {},
     "output_type": "execute_result"
    }
   ],
   "source": [
    "# Sorting by the lengths of the list elements\n",
    "a_list = [\"foo\", \"caramba\", \"maria\", \"apple\"]\n",
    "a_list.sort(key=len)\n",
    "a_list"
   ]
  },
  {
   "attachments": {},
   "cell_type": "markdown",
   "metadata": {},
   "source": [
    "#### Slicing\n",
    "\n",
    "- You can select sections of most sequence types by using slice notation, which in its basic form consists of `start:stop` passed to the indexing operator `[]`. \n",
    "- `start:stop` can also be negative in which case the indices slice the sequence relative to the end.\n",
    "- A `step` can also be used after a second colon to, say, take every other element.\n",
    "- Either `start` and `stop` can be omitted.\n",
    "\n",
    "![pda3_0301.png](images/pda3_0301.png)  "
   ]
  },
  {
   "cell_type": "code",
   "execution_count": 44,
   "metadata": {},
   "outputs": [
    {
     "data": {
      "text/plain": [
       "([3, 7, 5], [7, 2, 3, 7, 5], [6, 0, 1])"
      ]
     },
     "execution_count": 44,
     "metadata": {},
     "output_type": "execute_result"
    }
   ],
   "source": [
    "seq = [7, 2, 3, 7, 5, 6, 0, 1]\n",
    "seq[2:5], seq[:5], seq[5:]"
   ]
  },
  {
   "cell_type": "code",
   "execution_count": 45,
   "metadata": {},
   "outputs": [
    {
     "data": {
      "text/plain": [
       "[7, 2, 3, 7, 5, 6, 0, 1]"
      ]
     },
     "execution_count": 45,
     "metadata": {},
     "output_type": "execute_result"
    }
   ],
   "source": [
    "# Assign a sequence to a slice\n",
    "seq = [7, 2, 3, 7, 5, 6, 0, 1]\n",
    "seq[0:3] = [0]*3\n",
    "seq"
   ]
  },
  {
   "cell_type": "code",
   "execution_count": 60,
   "metadata": {},
   "outputs": [
    {
     "data": {
      "text/plain": [
       "([5, 6], [5, 6, 0], [5, 6, 0, 1])"
      ]
     },
     "execution_count": 60,
     "metadata": {},
     "output_type": "execute_result"
    }
   ],
   "source": [
    "# Negative indexes \n",
    "seq = [7, 2, 3, 7, 5, 6, 0, 1]\n",
    "seq[-4:-2], seq[-4:-1], seq[-4:]"
   ]
  },
  {
   "cell_type": "code",
   "execution_count": 62,
   "metadata": {},
   "outputs": [
    {
     "data": {
      "text/plain": [
       "[7, 3, 5, 0]"
      ]
     },
     "execution_count": 62,
     "metadata": {},
     "output_type": "execute_result"
    }
   ],
   "source": [
    "# Stepped slices\n",
    "seq = [7, 2, 3, 7, 5, 6, 0, 1]\n",
    "seq[::2]"
   ]
  },
  {
   "cell_type": "code",
   "execution_count": 63,
   "metadata": {},
   "outputs": [
    {
     "data": {
      "text/plain": [
       "[1, 0, 6, 5, 7, 3, 2, 7]"
      ]
     },
     "execution_count": 63,
     "metadata": {},
     "output_type": "execute_result"
    }
   ],
   "source": [
    "# Reverse a list with a negative step slices\n",
    "seq = [7, 2, 3, 7, 5, 6, 0, 1]\n",
    "seq[::-1]"
   ]
  },
  {
   "cell_type": "markdown",
   "metadata": {},
   "source": [
    "### Dictionary\n",
    "\n",
    "The dictionary may be the most important built-in Python data structure. A dictionary stores a collection of key-value pairs, where key and value are Python objects. "
   ]
  },
  {
   "cell_type": "markdown",
   "metadata": {},
   "source": [
    "#### Valid dictionary key types\n",
    "While the values of a dictionary can be any Python object, the keys generally have to be immutable objects like scalar types (int, float, string) or tuples (all the objects in the tuple need to be immutable, too). The technical term here is hashability. You can check whether an object is hashable (can be used as a key in a dictionary) with the hash function."
   ]
  },
  {
   "cell_type": "code",
   "execution_count": 50,
   "metadata": {},
   "outputs": [
    {
     "name": "stdout",
     "output_type": "stream",
     "text": [
      "5748106487473164127\n",
      "-265294822540361636\n"
     ]
    },
    {
     "ename": "TypeError",
     "evalue": "unhashable type: 'list'",
     "output_type": "error",
     "traceback": [
      "\u001b[1;31m---------------------------------------------------------------------------\u001b[0m",
      "\u001b[1;31mTypeError\u001b[0m                                 Traceback (most recent call last)",
      "Cell \u001b[1;32mIn[50], line 3\u001b[0m\n\u001b[0;32m      1\u001b[0m \u001b[38;5;28mprint\u001b[39m(\u001b[38;5;28mhash\u001b[39m(\u001b[38;5;124m\"\u001b[39m\u001b[38;5;124mstring\u001b[39m\u001b[38;5;124m\"\u001b[39m))\n\u001b[0;32m      2\u001b[0m \u001b[38;5;28mprint\u001b[39m(\u001b[38;5;28mhash\u001b[39m((\u001b[38;5;241m0\u001b[39m, \u001b[38;5;124m\"\u001b[39m\u001b[38;5;124ma\u001b[39m\u001b[38;5;124m\"\u001b[39m)))\n\u001b[1;32m----> 3\u001b[0m \u001b[38;5;28mprint\u001b[39m(\u001b[38;5;28;43mhash\u001b[39;49m\u001b[43m(\u001b[49m\u001b[43m[\u001b[49m\u001b[38;5;241;43m1\u001b[39;49m\u001b[43m,\u001b[49m\u001b[43m \u001b[49m\u001b[38;5;241;43m2\u001b[39;49m\u001b[43m]\u001b[49m\u001b[43m)\u001b[49m)\n",
      "\u001b[1;31mTypeError\u001b[0m: unhashable type: 'list'"
     ]
    }
   ],
   "source": [
    "print(hash(\"string\"))\n",
    "print(hash((0, \"a\")))\n",
    "print(hash([1, 2]))"
   ]
  },
  {
   "cell_type": "markdown",
   "metadata": {},
   "source": [
    "#### Generation"
   ]
  },
  {
   "cell_type": "code",
   "execution_count": 51,
   "metadata": {},
   "outputs": [
    {
     "data": {
      "text/plain": [
       "{'a': 'a value', 'b': [1, 2, 3, 4]}"
      ]
     },
     "execution_count": 51,
     "metadata": {},
     "output_type": "execute_result"
    }
   ],
   "source": [
    "# Create with {}\n",
    "dict_empty = {}\n",
    "\n",
    "dict_1 = {\n",
    "    \"a\": \"a value\",\n",
    "    \"b\": [1, 2, 3, 4]\n",
    "}\n",
    "\n",
    "dict_1"
   ]
  },
  {
   "cell_type": "code",
   "execution_count": 52,
   "metadata": {},
   "outputs": [
    {
     "data": {
      "text/plain": [
       "{0: 4, 1: 3, 2: 2, 3: 1, 4: 0}"
      ]
     },
     "execution_count": 52,
     "metadata": {},
     "output_type": "execute_result"
    }
   ],
   "source": [
    "# Create with dict from tuples\n",
    "tuples_ = zip(range(5), reversed(range(5)))\n",
    "dict_0 = dict(tuples_)\n",
    "dict_0"
   ]
  },
  {
   "cell_type": "markdown",
   "metadata": {},
   "source": [
    "#### Access, insert, or set elements"
   ]
  },
  {
   "cell_type": "code",
   "execution_count": 53,
   "metadata": {},
   "outputs": [
    {
     "data": {
      "text/plain": [
       "'an integer'"
      ]
     },
     "execution_count": 53,
     "metadata": {},
     "output_type": "execute_result"
    }
   ],
   "source": [
    "# Access and insert\n",
    "dict_1[7] = \"an integer\"\n",
    "dict_1[7]"
   ]
  },
  {
   "cell_type": "code",
   "execution_count": 54,
   "metadata": {},
   "outputs": [
    {
     "data": {
      "text/plain": [
       "True"
      ]
     },
     "execution_count": 54,
     "metadata": {},
     "output_type": "execute_result"
    }
   ],
   "source": [
    "# Check if a dict contains a key\n",
    "7 in dict_1"
   ]
  },
  {
   "cell_type": "code",
   "execution_count": 55,
   "metadata": {},
   "outputs": [],
   "source": [
    "# Delete an element with del or pop\n",
    "a = dict_1.pop(7)\n",
    "a, dict_1\n",
    "del dict_1[\"a\"]"
   ]
  },
  {
   "cell_type": "code",
   "execution_count": 56,
   "metadata": {},
   "outputs": [
    {
     "data": {
      "text/plain": [
       "{'b': [1, 2, 3, 4]}"
      ]
     },
     "execution_count": 56,
     "metadata": {},
     "output_type": "execute_result"
    }
   ],
   "source": [
    "dict_1"
   ]
  },
  {
   "cell_type": "markdown",
   "metadata": {},
   "source": [
    "#### Iterating"
   ]
  },
  {
   "cell_type": "code",
   "execution_count": 57,
   "metadata": {},
   "outputs": [
    {
     "name": "stdout",
     "output_type": "stream",
     "text": [
      "dict_keys(['Holiday allowance', 'Contract'])\n",
      "dict_values([30, 'IC'])\n",
      "dict_items([('Holiday allowance', 30), ('Contract', 'IC')])\n",
      "Holiday allowance\n",
      "Contract\n",
      "Holiday allowance 30\n",
      "Contract IC\n"
     ]
    }
   ],
   "source": [
    "# Iterating with the items, keys and values methods which return lists\n",
    "dict_2 = {\"Model\": 1200, \"Year\": 1964, \"Owner\": \"ZZZZZPJT\"}\n",
    "dict_3 = {\"Holiday allowance\": 30, \"Contract\": \"IC\"}\n",
    "\n",
    "print(dict_3.keys())\n",
    "print(dict_3.values())\n",
    "print(dict_3.items())\n",
    "for key in dict_3.keys():\n",
    "    print(key)\n",
    "for item in dict_3.items():\n",
    "    print(item[0], item[1])"
   ]
  },
  {
   "cell_type": "markdown",
   "metadata": {},
   "source": [
    "#### Merge dictionaries"
   ]
  },
  {
   "cell_type": "code",
   "execution_count": 58,
   "metadata": {},
   "outputs": [
    {
     "data": {
      "text/plain": [
       "{'Model': 1200,\n",
       " 'Year': 1964,\n",
       " 'Owner': 'ZZZZZPJT',\n",
       " 'Holiday allowance': 30,\n",
       " 'Contract': 'IC'}"
      ]
     },
     "execution_count": 58,
     "metadata": {},
     "output_type": "execute_result"
    }
   ],
   "source": [
    "# Merge two dictionaires in place with the update method\n",
    "dict_2.update(dict_3)\n",
    "dict_2"
   ]
  },
  {
   "cell_type": "markdown",
   "metadata": {},
   "source": [
    "#### Default values for variables not in dictonaries\n",
    "It’s common to have logic like:"
   ]
  },
  {
   "cell_type": "code",
   "execution_count": 62,
   "metadata": {},
   "outputs": [
    {
     "name": "stdout",
     "output_type": "stream",
     "text": [
      "30\n"
     ]
    }
   ],
   "source": [
    "dict_4 = {\"Model\": 1200, \"Year\": 1964, \"Owner\": \"ZZZZZPJT\", \"Holiday allowance\": 30, \"Contract\": \"IC\"}\n",
    "\n",
    "key, default_value, value = \"Holiday allowance\", 24, int()\n",
    "\n",
    "if key in dict_4:\n",
    "    value = dict_4[key]\n",
    "else:\n",
    "    value = default_value\n",
    "\n",
    "print(value)"
   ]
  },
  {
   "cell_type": "markdown",
   "metadata": {},
   "source": [
    "The loop can be reduced to one line with the dict.get method as it can return a default value if a key is not found.  \n",
    "**Signature**: some_dict.get(key, default=None, /)  \n",
    "**Docstring**: Return the value for key if key is in the dictionary, else default.  \n",
    "**Type**: builtin_function_or_method  \n",
    "  \n",
    "Note, that some_dict.pop(some_key) if a key is not in the dictionary."
   ]
  },
  {
   "cell_type": "code",
   "execution_count": 73,
   "metadata": {},
   "outputs": [
    {
     "data": {
      "text/plain": [
       "24"
      ]
     },
     "execution_count": 73,
     "metadata": {},
     "output_type": "execute_result"
    }
   ],
   "source": [
    "dict_4 = {\"Model\": 1200, \"Year\": 1964, \"Owner\": \"ZZZZZPJT\", \"Holiday allowance\": 30, \"Contract\": \"IC\"}\n",
    "\n",
    "key = \"nix\"\n",
    "value = dict_4.get(key, default_value)\n",
    "value"
   ]
  },
  {
   "cell_type": "code",
   "execution_count": 72,
   "metadata": {},
   "outputs": [
    {
     "ename": "KeyError",
     "evalue": "'nix'",
     "output_type": "error",
     "traceback": [
      "\u001b[1;31m---------------------------------------------------------------------------\u001b[0m",
      "\u001b[1;31mKeyError\u001b[0m                                  Traceback (most recent call last)",
      "Cell \u001b[1;32mIn[72], line 1\u001b[0m\n\u001b[1;32m----> 1\u001b[0m \u001b[43mdict_4\u001b[49m\u001b[38;5;241;43m.\u001b[39;49m\u001b[43mpop\u001b[49m\u001b[43m(\u001b[49m\u001b[43mkey\u001b[49m\u001b[43m)\u001b[49m\n",
      "\u001b[1;31mKeyError\u001b[0m: 'nix'"
     ]
    }
   ],
   "source": [
    "dict_4.pop(key)"
   ]
  },
  {
   "cell_type": "markdown",
   "metadata": {},
   "source": [
    "#### Using the default factory to create a dictionary with values as lists\n",
    "This approach can be useful to group a list of word by their first letter into a dictionary."
   ]
  },
  {
   "cell_type": "code",
   "execution_count": 85,
   "metadata": {},
   "outputs": [],
   "source": [
    "from collections import defaultdict\n",
    "by_letter = defaultdict(list)\n",
    "\n",
    "words = [\"apple\", \"bat\", \"bar\", \"atom\", \"book\"]"
   ]
  },
  {
   "cell_type": "code",
   "execution_count": 87,
   "metadata": {},
   "outputs": [],
   "source": [
    "for word in words:\n",
    "    by_letter[word[0]].append(word)\n",
    "by_letter"
   ]
  },
  {
   "cell_type": "code",
   "execution_count": 88,
   "metadata": {},
   "outputs": [
    {
     "data": {
      "text/plain": [
       "defaultdict(list, {'a': ['apple', 'atom'], 'b': ['bat', 'bar', 'book']})"
      ]
     },
     "execution_count": 88,
     "metadata": {},
     "output_type": "execute_result"
    }
   ],
   "source": [
    "by_letter"
   ]
  },
  {
   "cell_type": "markdown",
   "metadata": {},
   "source": [
    "### Sets\n",
    "A set is an unordered collection of unique elements. "
   ]
  },
  {
   "cell_type": "markdown",
   "metadata": {},
   "source": [
    "#### Generation\n",
    "A set can be created in two ways: via the set function or via a set literal with curly braces."
   ]
  },
  {
   "cell_type": "code",
   "execution_count": 96,
   "metadata": {},
   "outputs": [
    {
     "name": "stdout",
     "output_type": "stream",
     "text": [
      "{0, 2, 3} {0, 2, 3}\n"
     ]
    }
   ],
   "source": [
    "a_set = set([2, 2, 0, 3, 3])\n",
    "b_set = {2, 2, 0, 3, 3}\n",
    "print(a_set, b_set)"
   ]
  },
  {
   "attachments": {},
   "cell_type": "markdown",
   "metadata": {},
   "source": [
    "#### Algebra of sets\n",
    "Sets support mathematical set operations like union, intersection, difference, and symmetric difference:  \n",
    "\n",
    "![pda3_0401.png](images/pda3_0401.png)  \n",
    "Here a some examples:"
   ]
  },
  {
   "cell_type": "code",
   "execution_count": 107,
   "metadata": {},
   "outputs": [
    {
     "data": {
      "text/plain": [
       "({1, 2, 3, 4, 5}, {3, 4, 5, 6, 7, 8})"
      ]
     },
     "execution_count": 107,
     "metadata": {},
     "output_type": "execute_result"
    }
   ],
   "source": [
    "a, b = set(range(1, 6)), set(range(3, 9))\n",
    "a, b"
   ]
  },
  {
   "cell_type": "code",
   "execution_count": 108,
   "metadata": {},
   "outputs": [
    {
     "data": {
      "text/plain": [
       "({1, 2, 3, 4, 5, 6, 7, 8}, {3, 4, 5}, {1, 2})"
      ]
     },
     "execution_count": 108,
     "metadata": {},
     "output_type": "execute_result"
    }
   ],
   "source": [
    "a | b, a & b, a - b  # union, intersection, subtraction"
   ]
  },
  {
   "cell_type": "code",
   "execution_count": null,
   "metadata": {},
   "outputs": [],
   "source": []
  },
  {
   "cell_type": "code",
   "execution_count": null,
   "metadata": {},
   "outputs": [],
   "source": []
  }
 ],
 "metadata": {
  "kernelspec": {
   "display_name": "Python 3 (ipykernel)",
   "language": "python",
   "name": "python3"
  },
  "language_info": {
   "codemirror_mode": {
    "name": "ipython",
    "version": 3
   },
   "file_extension": ".py",
   "mimetype": "text/x-python",
   "name": "python",
   "nbconvert_exporter": "python",
   "pygments_lexer": "ipython3",
   "version": "3.12.2"
  }
 },
 "nbformat": 4,
 "nbformat_minor": 4
}
